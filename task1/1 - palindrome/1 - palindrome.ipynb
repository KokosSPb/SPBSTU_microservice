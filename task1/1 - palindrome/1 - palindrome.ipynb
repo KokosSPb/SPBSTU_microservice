{
 "cells": [
  {
   "cell_type": "code",
   "execution_count": 1,
   "id": "2521deaf",
   "metadata": {},
   "outputs": [
    {
     "name": "stdout",
     "output_type": "stream",
     "text": [
      "True\n",
      "False\n",
      "True\n"
     ]
    }
   ],
   "source": [
    "def bPalindrome(tP):\n",
    "    return tP == tP[::-1]\n",
    "\n",
    "print(bPalindrome(\"rotator\"))\n",
    "print(bPalindrome(\"text\"))\n",
    "print(bPalindrome(\"refer\"))"
   ]
  }
 ],
 "metadata": {
  "kernelspec": {
   "display_name": "Python 3 (ipykernel)",
   "language": "python",
   "name": "python3"
  },
  "language_info": {
   "codemirror_mode": {
    "name": "ipython",
    "version": 3
   },
   "file_extension": ".py",
   "mimetype": "text/x-python",
   "name": "python",
   "nbconvert_exporter": "python",
   "pygments_lexer": "ipython3",
   "version": "3.11.4"
  }
 },
 "nbformat": 4,
 "nbformat_minor": 5
}
