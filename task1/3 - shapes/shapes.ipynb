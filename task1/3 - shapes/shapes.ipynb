{
 "cells": [
  {
   "cell_type": "code",
   "execution_count": 1,
   "id": "23b90ec0",
   "metadata": {},
   "outputs": [],
   "source": [
    "import math"
   ]
  },
  {
   "cell_type": "code",
   "execution_count": 2,
   "id": "51ae72cc",
   "metadata": {},
   "outputs": [],
   "source": [
    "class Shapes:\n",
    "    def area(im):\n",
    "        raise NotImplementedError\n",
    "\n",
    "    def perimeter(im):\n",
    "        raise NotImplementedError\n",
    "\n",
    "    def compare_area(im, notim):\n",
    "        return im.area() > notim.area()\n",
    "\n",
    "    def compare_perimeter(im, notim):\n",
    "        return im.perimeter() > notim.perimeter()"
   ]
  },
  {
   "cell_type": "code",
   "execution_count": 3,
   "id": "fc9a005c",
   "metadata": {},
   "outputs": [],
   "source": [
    "class Square(Shapes):\n",
    "    def __init__(im, iside):\n",
    "        im.iside = iside\n",
    "\n",
    "    def area(im):\n",
    "        return im.iside ** 2\n",
    "\n",
    "    def perimeter(im):\n",
    "        return 4 * im.iside"
   ]
  },
  {
   "cell_type": "code",
   "execution_count": 4,
   "id": "dfff240a",
   "metadata": {},
   "outputs": [],
   "source": [
    "class Rectangle(Shapes):\n",
    "    def __init__(im, width, height):\n",
    "        im.width = width\n",
    "        im.height = height\n",
    "\n",
    "    def area(im):\n",
    "        return im.width * im.height\n",
    "\n",
    "    def perimeter(im):\n",
    "        return 2 * (im.width + im.height)"
   ]
  },
  {
   "cell_type": "code",
   "execution_count": 5,
   "id": "e293fb4f",
   "metadata": {},
   "outputs": [],
   "source": [
    "class Triangle(Shapes):\n",
    "    def __init__(im, a, b, c):\n",
    "        im.a = a\n",
    "        im.b = b\n",
    "        im.c = c\n",
    "\n",
    "    def area(im): # Heron's formula\n",
    "        s = (im.a + im.b + im.c) / 2\n",
    "        return math.sqrt(s * (s - im.a) * (s - im.b) * (s - im.c))\n",
    "\n",
    "    def perimeter(im):\n",
    "        return im.a + im.b + im.c"
   ]
  },
  {
   "cell_type": "code",
   "execution_count": 6,
   "id": "dd3a5da4",
   "metadata": {},
   "outputs": [],
   "source": [
    "class Circle(Shapes):\n",
    "    def __init__(im, r):\n",
    "        im.r = r\n",
    "\n",
    "    def area(im):\n",
    "        return math.pi * im.r ** 2\n",
    "\n",
    "    def perimeter(im):\n",
    "        return 2 * math.pi * im.r"
   ]
  },
  {
   "cell_type": "code",
   "execution_count": 7,
   "id": "fffa6cf8",
   "metadata": {},
   "outputs": [],
   "source": [
    "square = Square(7)\n",
    "rectangle = Rectangle(6, 8)\n",
    "triangle = Triangle(3, 4, 5)\n",
    "circle = Circle(6)"
   ]
  },
  {
   "cell_type": "code",
   "execution_count": 8,
   "id": "ba71076a",
   "metadata": {},
   "outputs": [
    {
     "name": "stdout",
     "output_type": "stream",
     "text": [
      "49\n",
      "28\n",
      "48\n",
      "28\n",
      "6.0\n",
      "12\n",
      "113.09733552923255\n",
      "37.69911184307752\n",
      "True\n",
      "False\n"
     ]
    }
   ],
   "source": [
    "print(square.area())       # 49\n",
    "print(square.perimeter())  # 28\n",
    "\n",
    "print(rectangle.area())    # 48\n",
    "print(rectangle.perimeter())  # 28\n",
    "\n",
    "print(triangle.area())    # 6\n",
    "print(triangle.perimeter())  # 12\n",
    "\n",
    "print(circle.area())      # 113.09733552923255\n",
    "print(circle.perimeter())  # 37.69911184307752\n",
    "\n",
    "print(square.compare_area(rectangle))\n",
    "print(square.compare_perimeter(rectangle))"
   ]
  }
 ],
 "metadata": {
  "kernelspec": {
   "display_name": "Python 3 (ipykernel)",
   "language": "python",
   "name": "python3"
  },
  "language_info": {
   "codemirror_mode": {
    "name": "ipython",
    "version": 3
   },
   "file_extension": ".py",
   "mimetype": "text/x-python",
   "name": "python",
   "nbconvert_exporter": "python",
   "pygments_lexer": "ipython3",
   "version": "3.11.4"
  }
 },
 "nbformat": 4,
 "nbformat_minor": 5
}
