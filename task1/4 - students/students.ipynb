{
 "cells": [
  {
   "cell_type": "code",
   "execution_count": 1,
   "id": "e8870024",
   "metadata": {},
   "outputs": [],
   "source": [
    "class Students:\n",
    "    def __init__(im, name, age, group, average_mark):\n",
    "        im.name = name\n",
    "        im.age = age\n",
    "        im.group = group\n",
    "        im.average_mark = average_mark\n",
    "\n",
    "        im.sch_grade_max = 5\n",
    "        im.sch_threshold = 4\n",
    "        im.sch_low = 4000\n",
    "        im.sch_high = 6000\n",
    "    \n",
    "    def get_name(im):\n",
    "        return im.name\n",
    "\n",
    "    def get_age(im):\n",
    "        return im.age\n",
    "\n",
    "    def __str__(im):\n",
    "        return \"Name: \" + str(im.get_name()) + \", age: \" + str(im.get_age()) + \", scholarship: \" + str(im.get_scholarship())\n",
    "    \n",
    "    def get_scholarship(im):\n",
    "        if im.average_mark == im.sch_grade_max:\n",
    "            return im.sch_high\n",
    "        elif im.average_mark > im.sch_threshold:\n",
    "            return im.sch_low\n",
    "        else:\n",
    "            return 0\n",
    "        \n",
    "    def compare_scholarship(im, obj):\n",
    "        return im.get_scholarship() > obj.get_scholarship()"
   ]
  },
  {
   "cell_type": "code",
   "execution_count": 2,
   "id": "08726605",
   "metadata": {},
   "outputs": [],
   "source": [
    "class Aspirants(Students):\n",
    "    def __init__(im, name, age, group, average_mark, thesis):\n",
    "        super().__init__(name, age, group, average_mark)\n",
    "        im.thesis = thesis\n",
    "        im.sch_low = 6000\n",
    "        im.sch_high = 8000\n",
    "\n",
    "    def __str__(im):\n",
    "        return super().__str__() + \", thesis: \" + str(im.thesis)"
   ]
  },
  {
   "cell_type": "code",
   "execution_count": 3,
   "id": "38cedb88",
   "metadata": {},
   "outputs": [
    {
     "name": "stdout",
     "output_type": "stream",
     "text": [
      "Name: Максим, age: 34, scholarship: 6000\n",
      "Name: Максим, age: 34, scholarship: 4000\n",
      "Name: Максим, age: 34, scholarship: 0\n"
     ]
    }
   ],
   "source": [
    "st1 = Students(\"Максим\", 34, 1049, 5)\n",
    "print(st1)\n",
    "\n",
    "st1.average_mark = 4.5\n",
    "print(st1)\n",
    "\n",
    "st1.average_mark = 4\n",
    "print(st1)"
   ]
  },
  {
   "cell_type": "code",
   "execution_count": 4,
   "id": "2ec1ea0c",
   "metadata": {},
   "outputs": [
    {
     "name": "stdout",
     "output_type": "stream",
     "text": [
      "Name: Виталий, age: 45, scholarship: 8000, thesis: Влияние русских народных музыкальных кнопочных инструментов на развитие религиозно-философской мысли России конца ХVIII начала ХХ века\n",
      "False\n",
      "Name: Виталий, age: 45, scholarship: 6000, thesis: Влияние русских народных музыкальных кнопочных инструментов на развитие религиозно-философской мысли России конца ХVIII начала ХХ века\n",
      "Name: Виталий, age: 45, scholarship: 0, thesis: Влияние русских народных музыкальных кнопочных инструментов на развитие религиозно-философской мысли России конца ХVIII начала ХХ века\n"
     ]
    }
   ],
   "source": [
    "st2 = Aspirants(\"Виталий\", 45, 1043, 5, \"Влияние русских народных музыкальных кнопочных инструментов на развитие религиозно-философской мысли России конца ХVIII начала ХХ века\")\n",
    "print(st2)\n",
    "\n",
    "st2.average_mark = 4.5\n",
    "print(st1.compare_scholarship(st2))\n",
    "print(st2)\n",
    "\n",
    "st2.average_mark = 4\n",
    "print(st2)"
   ]
  }
 ],
 "metadata": {
  "kernelspec": {
   "display_name": "Python 3 (ipykernel)",
   "language": "python",
   "name": "python3"
  },
  "language_info": {
   "codemirror_mode": {
    "name": "ipython",
    "version": 3
   },
   "file_extension": ".py",
   "mimetype": "text/x-python",
   "name": "python",
   "nbconvert_exporter": "python",
   "pygments_lexer": "ipython3",
   "version": "3.11.4"
  }
 },
 "nbformat": 4,
 "nbformat_minor": 5
}
