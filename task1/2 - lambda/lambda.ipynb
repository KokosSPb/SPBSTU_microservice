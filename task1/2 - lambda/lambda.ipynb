{
 "cells": [
  {
   "cell_type": "code",
   "execution_count": 20,
   "id": "095057df",
   "metadata": {},
   "outputs": [
    {
     "name": "stdout",
     "output_type": "stream",
     "text": [
      "['rotator', 'text', 'refer']\n",
      "['Do geese see God?', 'rotator', 'text', 'refer', \"Madam, I'm Adam\"]\n",
      "['Do geese see God?', 'rotator', \"a Toyota's a Toyota\", 'refer', \"Madam, I'm Adam\"]\n"
     ]
    }
   ],
   "source": [
    "def filter(func, arStr):\n",
    "    arAns = []\n",
    "    for iL in arStr:\n",
    "        if(func(iL)):\n",
    "            arAns.append(iL)\n",
    "\n",
    "    return arAns\n",
    "\n",
    "data = [\n",
    "    \"Do geese see God?\",\n",
    "    \"rotator\",\n",
    "    \"text\", # длина меньше 5 и не Палиндром :-)\n",
    "    \"a Toyota's a Toyota\",\n",
    "    \"refer\", # Длина 5 и Палиндром\n",
    "    \"Madam, I'm Adam\"\n",
    "]\n",
    "\n",
    "print(filter(lambda str : ' ' not in str, data))\n",
    "print(filter(lambda str : str[0] != 'a', data))\n",
    "print(filter(lambda str : len(str) >= 5, data))"
   ]
  }
 ],
 "metadata": {
  "kernelspec": {
   "display_name": "Python 3 (ipykernel)",
   "language": "python",
   "name": "python3"
  },
  "language_info": {
   "codemirror_mode": {
    "name": "ipython",
    "version": 3
   },
   "file_extension": ".py",
   "mimetype": "text/x-python",
   "name": "python",
   "nbconvert_exporter": "python",
   "pygments_lexer": "ipython3",
   "version": "3.11.4"
  }
 },
 "nbformat": 4,
 "nbformat_minor": 5
}
