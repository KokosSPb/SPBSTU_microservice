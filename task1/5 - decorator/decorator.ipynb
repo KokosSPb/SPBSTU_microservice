{
 "cells": [
  {
   "cell_type": "code",
   "execution_count": 1,
   "id": "c27d9ecf",
   "metadata": {},
   "outputs": [],
   "source": [
    "import time"
   ]
  },
  {
   "cell_type": "code",
   "execution_count": 2,
   "id": "a2fd1969",
   "metadata": {},
   "outputs": [],
   "source": [
    "def get_exec_time(func):\n",
    "    def wrapper(*args, **kwargs):\n",
    "        start_time = time.time()\n",
    "        result = func(*args, **kwargs)\n",
    "        end_time = time.time()\n",
    "        print(\"Execution time: \" + str(end_time - start_time))\n",
    "        return result\n",
    "    return wrapper"
   ]
  },
  {
   "cell_type": "code",
   "execution_count": 3,
   "id": "7427a33b",
   "metadata": {},
   "outputs": [],
   "source": [
    "@get_exec_time\n",
    "def add(a, b):\n",
    "    print(a+b)"
   ]
  },
  {
   "cell_type": "code",
   "execution_count": 4,
   "id": "d6fa2f56",
   "metadata": {},
   "outputs": [],
   "source": [
    "@get_exec_time\n",
    "def add_from_file():\n",
    "    with open(\"input.txt\", \"r\") as input_file:\n",
    "        a, b = map(int, input_file.readlines())\n",
    "\n",
    "    result = a + b\n",
    "\n",
    "    with open(\"output.txt\", \"w\") as output_file:\n",
    "        output_file.write(str(result))"
   ]
  },
  {
   "cell_type": "code",
   "execution_count": 6,
   "id": "479702e4",
   "metadata": {},
   "outputs": [
    {
     "name": "stdout",
     "output_type": "stream",
     "text": [
      "12\n",
      "Execution time: 0.0\n",
      "Execution time: 0.0009975433349609375\n"
     ]
    }
   ],
   "source": [
    "add(3, 9)\n",
    "add_from_file()"
   ]
  }
 ],
 "metadata": {
  "kernelspec": {
   "display_name": "Python 3 (ipykernel)",
   "language": "python",
   "name": "python3"
  },
  "language_info": {
   "codemirror_mode": {
    "name": "ipython",
    "version": 3
   },
   "file_extension": ".py",
   "mimetype": "text/x-python",
   "name": "python",
   "nbconvert_exporter": "python",
   "pygments_lexer": "ipython3",
   "version": "3.11.4"
  }
 },
 "nbformat": 4,
 "nbformat_minor": 5
}
